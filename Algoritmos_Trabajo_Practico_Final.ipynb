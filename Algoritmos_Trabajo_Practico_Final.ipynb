{
  "nbformat": 4,
  "nbformat_minor": 0,
  "metadata": {
    "colab": {
      "provenance": []
    },
    "kernelspec": {
      "name": "python3",
      "display_name": "Python 3"
    }
  },
  "cells": [
    {
      "cell_type": "markdown",
      "metadata": {
        "id": "hVbXYX-RfPWh"
      },
      "source": [
        "# Algoritmos de optimización - Seminario<br>\n",
        "**Integrantes: <br>Carlos César Meza Montalvo / Franklin Vinicio Jaya Balseca**<br><br>\n",
        "\n",
        "**URL: <br>https://github.com/CarlitosIA/VIU/blob/main/Algoritmos_Trabajo_Practico_Final.ipynb**<br><br>\n",
        "**Problema:<br> Combinar cifras y operaciones**<br>\n",
        "\n",
        "El problema consiste en analizar el siguiente problema y diseñar un algoritmo que lo resuelva.\n",
        "Disponemos de las 9 cifras del 1 al 9 (excluimos el cero) y de los 4 signos básicos de las\n",
        "operaciones fundamentales: suma(+), resta(-), multiplicación (* ) y división(/).\n",
        "Debemos combinarlos alternativamente sin repetir ninguno de ellos para obtener una cantidad dada. Un ejemplo sería para obtener el 4: 4+2-6/3*1 = 4\n",
        "\n",
        "Debe analizarse el problema para encontrar todos los valores enteros posibles planteando las siguientes cuestiones:\n",
        "- ¿Qué valor máximo y mínimo se pueden obtener según las condiciones del problema?\n",
        "- ¿Es posible encontrar todos los valores enteros posibles entre dicho mínimo y máximo?\n",
        "\n",
        "Nota: Es posible usar la función de python “eval” para evaluar una expresión.\n",
        "\n",
        "\n",
        "\n",
        "\n",
        "\n",
        "                                        "
      ]
    },
    {
      "cell_type": "markdown",
      "source": [
        "**Pregunta 1 - ¿Qué valor máximo y mínimo se pueden obtener según las condiciones del problema?**\n",
        "\n"
      ],
      "metadata": {
        "id": "PWR7wjAF8kwI"
      }
    },
    {
      "cell_type": "markdown",
      "source": [
        "> **Respuesta: El valor minimo obtenido es -69.0 y el valor maximo es 77.0**"
      ],
      "metadata": {
        "id": "yNC3YjZgHREg"
      }
    },
    {
      "cell_type": "code",
      "source": [
        "import itertools\n",
        "import numpy as np\n",
        "\n",
        "# Definir los números del 1 al 9 y los operadores\n",
        "numeros = list(range(1, 10))\n",
        "operadores = ['+', '-', '*', '/']\n",
        "\n",
        "# Generar todas las permutaciones de 5 números del 1 al 9\n",
        "combinaciones_numeros = list(itertools.permutations(numeros, 5))\n",
        "\n",
        "# Generar todas las permutaciones de 4 operadores (se necesitan 4 operadores para 5 números)\n",
        "permutaciones_operadores = list(itertools.permutations(operadores, r=4))\n",
        "\n",
        "# Lista para almacenar los resultados que cumplan con la restricción (valores enteros)\n",
        "resultados = []\n",
        "\n",
        "for nums in combinaciones_numeros:\n",
        "    for ops in permutaciones_operadores:\n",
        "        expresion = f\"{nums[0]} {ops[0]} {nums[1]} {ops[1]} {nums[2]} {ops[2]} {nums[3]} {ops[3]} {nums[4]}\"\n",
        "        resultado = eval(expresion)\n",
        "        if resultado-int(resultado) == 0:\n",
        "            resultados.append((expresion, resultado))\n",
        "\n",
        "# Calcular los valores máximo y mínimo de los resultados obtenidos\n",
        "valores= np.array([resultado for _, resultado in resultados])\n",
        "minimo=np.amin(valores)\n",
        "maximo=np.amax(valores)\n",
        "\n",
        "print(f\"El valor minimo obtenido es {minimo} y el valor maximo es {maximo}\")"
      ],
      "metadata": {
        "id": "hAnC6PxbGxMs",
        "outputId": "a6404f8a-7166-4186-87cc-291895ec3165",
        "colab": {
          "base_uri": "https://localhost:8080/"
        }
      },
      "execution_count": null,
      "outputs": [
        {
          "output_type": "stream",
          "name": "stdout",
          "text": [
            "El valor minimo obtenido es -69.0 y el valor maximo es 77.0\n"
          ]
        }
      ]
    },
    {
      "cell_type": "markdown",
      "source": [
        "**Pregunta 2 - ¿Es posible encontrar todos los valores enteros posibles entre dicho mínimo y máximo?**"
      ],
      "metadata": {
        "id": "9q1t2oIAHjhe"
      }
    },
    {
      "cell_type": "markdown",
      "source": [
        "> **Respuesta: Si es posible. La cantidad de valores obtenidos incluyendo el mínimo y máximo es 90000**"
      ],
      "metadata": {
        "id": "pzjzh8kKI4X_"
      }
    },
    {
      "cell_type": "code",
      "metadata": {
        "id": "AiskKkzZfy4e",
        "colab": {
          "base_uri": "https://localhost:8080/"
        },
        "outputId": "aa92b658-5a82-4ecf-ce60-7bb8844ebfa6"
      },
      "source": [
        "import itertools\n",
        "import numpy as np\n",
        "\n",
        "# Definir los números del 1 al 9 y los operadores\n",
        "numeros = list(range(1, 10))\n",
        "operadores = ['+', '-', '*', '/']\n",
        "\n",
        "# Generar todas las permutaciones de 5 números del 1 al 9\n",
        "combinaciones_numeros = list(itertools.permutations(numeros, 5))\n",
        "\n",
        "# Generar todas las permutaciones de 4 operadores (se necesitan 4 operadores para 5 números)\n",
        "permutaciones_operadores = list(itertools.permutations(operadores, r=4))\n",
        "\n",
        "# Lista para almacenar los resultados que cumplan con la restricción (valores enteros)\n",
        "resultados = []\n",
        "\n",
        "for nums in combinaciones_numeros:\n",
        "    for ops in permutaciones_operadores:\n",
        "        expresion = f\"{nums[0]} {ops[0]} {nums[1]} {ops[1]} {nums[2]} {ops[2]} {nums[3]} {ops[3]} {nums[4]}\"\n",
        "        resultado = eval(expresion)\n",
        "        if resultado-int(resultado) == 0: # Restricción solo valores enteros\n",
        "            resultados.append((expresion, resultado))\n",
        "\n",
        "# Calcular el número de valores obtenidos\n",
        "numero_valores=len(resultados)\n",
        "\n",
        "print(f\"La cantidad de valores obtenidos es {numero_valores}\")"
      ],
      "execution_count": null,
      "outputs": [
        {
          "output_type": "stream",
          "name": "stdout",
          "text": [
            "La cantidad de valores obtenidos es 90000\n"
          ]
        }
      ]
    },
    {
      "cell_type": "markdown",
      "source": [
        "**Pregunta 3 - ¿Cuantas posibilidades hay sin tener en cuenta las restricciones?** (*)"
      ],
      "metadata": {
        "id": "5PXUQTXaJit3"
      }
    },
    {
      "cell_type": "markdown",
      "source": [
        "> **Respuesta: La cantidad de de posibilidades obtenidas sin restricciones es 362880**"
      ],
      "metadata": {
        "id": "VqZkjwxONc8B"
      }
    },
    {
      "cell_type": "code",
      "source": [
        "import itertools\n",
        "import numpy as np\n",
        "\n",
        "# Definir los números del 1 al 9 y los operadores\n",
        "numeros = list(range(1, 10))\n",
        "operadores = ['+', '-', '*', '/']\n",
        "\n",
        "# Generar todas las permutaciones de 5 números del 1 al 9\n",
        "combinaciones_numeros = list(itertools.permutations(numeros, 5))\n",
        "\n",
        "# Generar todas las permutaciones de 4 operadores (se necesitan 4 operadores para 5 números)\n",
        "permutaciones_operadores = list(itertools.permutations(operadores, r=4))\n",
        "\n",
        "# Lista para almacenar los resultados sin restricciones (incluye números reales)\n",
        "resultados = []\n",
        "\n",
        "for nums in combinaciones_numeros:\n",
        "    for ops in permutaciones_operadores:\n",
        "        expresion = f\"{nums[0]} {ops[0]} {nums[1]} {ops[1]} {nums[2]} {ops[2]} {nums[3]} {ops[3]} {nums[4]}\"\n",
        "        resultado = eval(expresion)\n",
        "        resultados.append((expresion, resultado))\n",
        "\n",
        "# Calcular el número de valores obtenidos sin restricción\n",
        "numero_valores=len(resultados)\n",
        "\n",
        "print(f\"La cantidad de de posibilidades obtenidas sin restricciones es {numero_valores}\")"
      ],
      "metadata": {
        "id": "VaW30OMdH7wl",
        "colab": {
          "base_uri": "https://localhost:8080/"
        },
        "outputId": "d27e3849-e9c4-4a44-d0de-6d9eaec5d2a2"
      },
      "execution_count": null,
      "outputs": [
        {
          "output_type": "stream",
          "name": "stdout",
          "text": [
            "La cantidad de valores obtenidos sin restricciones es 362880\n"
          ]
        }
      ]
    },
    {
      "cell_type": "markdown",
      "source": [
        "**Pregunta 4 - ¿Cuantas posibilidades hay teniendo en cuenta todas las restricciones?**"
      ],
      "metadata": {
        "id": "fSgo76E2OguZ"
      }
    },
    {
      "cell_type": "markdown",
      "source": [
        "> **Respuesta: La cantidad de posibilidades teniendo en cuenta las restricciones  es 90000. El código Python se encuentra en la Pregunta 2.**\n"
      ],
      "metadata": {
        "id": "pqkeNFjWPD-w"
      }
    },
    {
      "cell_type": "markdown",
      "source": [
        "**Pregunta 5 - ¿Cual es la estructura de datos que mejor se adapta al problema? Argumentalo.(Es posible que hayas elegido una al principio y veas la necesidad de cambiar, argumentalo)**"
      ],
      "metadata": {
        "id": "LfSO045_QqAm"
      }
    },
    {
      "cell_type": "markdown",
      "source": [
        "> **Respuesta: La estructura de datos que se adapta mejor al problema es la lista. Una lista es una colección ordenada y mutable de elementos, donde cada elemento puede ser de cualquier tipo. Podemos agregar elementos a una lista, eliminarlos, modificarlos y realizar diversas operaciones como ordenarla o buscar elementos en ella.Especificamente utilizaremos la lista para poder almacenar todas las permutaciones de operadores y cifras asi como almacenar los resultados obtenidos utilizando el método append.**"
      ],
      "metadata": {
        "id": "rxxHsyXNQ-ry"
      }
    },
    {
      "cell_type": "markdown",
      "source": [
        "**Pregunta 6 - ¿Cual es la función objetivo?**"
      ],
      "metadata": {
        "id": "NwAkggdCUwwJ"
      }
    },
    {
      "cell_type": "markdown",
      "source": [
        "> **Respuesta: La función objetivo es encontrar todos los valores enteros como resultado de la operación de combinarlos alternativamente sin repetir ninguno de ellos utilizando 9 cifras del 1 al 9 (excluimos el cero) y de los 4 signos básicos de las operaciones fundamentales: suma, resta, multiplicación y división.**"
      ],
      "metadata": {
        "id": "OZVYA9TFVB5i"
      }
    },
    {
      "cell_type": "markdown",
      "source": [
        "**Pregunta 7 - ¿Es un problema de maximización o minimización?**"
      ],
      "metadata": {
        "id": "mtWmQCR4YA_R"
      }
    },
    {
      "cell_type": "markdown",
      "source": [
        "> **Respuesta: Un problema de maximización o minimización es un tipo de problema de optimización en el cual se busca encontrar el valor óptimo (máximo o mínimo) de una función objetivo, sujeta a una serie de restricciones. Para el caso del problema se ha solicitado calcular el valor máximo y mínimo de la función objetivo (Ver Pregunta 1) por lo que se trata de un problema de maximización y minimización**"
      ],
      "metadata": {
        "id": "5HPC3Z6kYT9S"
      }
    },
    {
      "cell_type": "markdown",
      "source": [
        "**Pregunta 8 - Diseña un algoritmo para resolver el problema por fuerza bruta**"
      ],
      "metadata": {
        "id": "Hz8VMNdYZzwi"
      }
    },
    {
      "cell_type": "markdown",
      "source": [
        "> **Respuesta: Un algoritmo de fuerza bruta es un enfoque de resolución de problemas que implica probar todas las posibles soluciones hasta encontrar la correcta. Este método no emplea ninguna técnica de optimización o heurística, sino que explora exhaustivamente el espacio de soluciones posibles. Para el caso del problema en la lista \"resultados\" se almacenan todas las combinaciones y resultados de combinar los 4 operadores con ls cifras del 1 al 9**"
      ],
      "metadata": {
        "id": "QtgXyb8caAht"
      }
    },
    {
      "cell_type": "code",
      "source": [
        "import itertools\n",
        "import numpy as np\n",
        "\n",
        "# Definir los números del 1 al 9 y los operadores\n",
        "numeros = list(range(1, 10))\n",
        "operadores = ['+', '-', '*', '/']\n",
        "\n",
        "# Generar todas las permutaciones de 5 números del 1 al 9\n",
        "combinaciones_numeros = list(itertools.permutations(numeros, 5))\n",
        "\n",
        "# Generar todas las permutaciones de 4 operadores (se necesitan 4 operadores para 5 números)\n",
        "permutaciones_operadores = list(itertools.permutations(operadores, r=4))\n",
        "\n",
        "# Lista para almacenar los resultados que cumplan con la restricción (valores enteros)\n",
        "resultados = []\n",
        "\n",
        "for nums in combinaciones_numeros:\n",
        "    for ops in permutaciones_operadores:\n",
        "        expresion = f\"{nums[0]} {ops[0]} {nums[1]} {ops[1]} {nums[2]} {ops[2]} {nums[3]} {ops[3]} {nums[4]}\"\n",
        "        resultado = eval(expresion)\n",
        "        if resultado-int(resultado) == 0: # Restricción solo valores enteros\n",
        "            resultados.append((expresion, resultado))\n",
        "\n",
        "# Imprimir las primeras 20 combinaciones y sus resultados\n",
        "i=0\n",
        "for expresion, resultado in resultados:\n",
        "    print(f\"{expresion} = {resultado}\")\n",
        "    i+=1\n",
        "    if i==20: break\n"
      ],
      "metadata": {
        "colab": {
          "base_uri": "https://localhost:8080/"
        },
        "id": "Dh0MIViWO9Zl",
        "outputId": "198fc4d2-ef8c-479a-e4f3-55ed1bc79668"
      },
      "execution_count": null,
      "outputs": [
        {
          "output_type": "stream",
          "name": "stdout",
          "text": [
            "1 + 2 - 3 * 4 / 6 = 1.0\n",
            "1 - 2 + 3 * 4 / 6 = 1.0\n",
            "1 + 2 - 3 / 4 * 8 = -3.0\n",
            "1 - 2 + 3 / 4 * 8 = 5.0\n",
            "1 + 2 - 3 / 6 * 4 = 1.0\n",
            "1 + 2 * 3 / 6 - 4 = -2.0\n",
            "1 + 2 / 3 * 6 - 4 = 1.0\n",
            "1 - 2 + 3 / 6 * 4 = 1.0\n",
            "1 - 2 * 3 / 6 + 4 = 4.0\n",
            "1 - 2 / 3 * 6 + 4 = 1.0\n",
            "1 + 2 * 3 / 6 - 5 = -3.0\n",
            "1 + 2 / 3 * 6 - 5 = 0.0\n",
            "1 - 2 * 3 / 6 + 5 = 5.0\n",
            "1 - 2 / 3 * 6 + 5 = 2.0\n",
            "1 + 2 * 3 / 6 - 7 = -5.0\n",
            "1 + 2 / 3 * 6 - 7 = -2.0\n",
            "1 - 2 * 3 / 6 + 7 = 7.0\n",
            "1 - 2 / 3 * 6 + 7 = 4.0\n",
            "1 + 2 - 3 / 6 * 8 = -1.0\n",
            "1 + 2 * 3 / 6 - 8 = -6.0\n"
          ]
        }
      ]
    },
    {
      "cell_type": "markdown",
      "source": [
        "**Pregunta 9 - Calcula la complejidad del algoritmo por fuerza bruta**"
      ],
      "metadata": {
        "id": "UzndhqhqeA3g"
      }
    },
    {
      "cell_type": "markdown",
      "source": [
        "**Respuesta:**\n",
        "\n",
        "Calcular la complejidad del código implica analizar el número de operaciones que se realizan en función del tamaño de las entradas. En este caso, el código genera permutaciones de números y operadores, evalúa todas las combinaciones posibles y almacena aquellas que cumplen una cierta condición.\n",
        "\n",
        "**-Generación de Permutaciones de Números:**"
      ],
      "metadata": {
        "id": "Za0_-Ty6eCYy"
      }
    },
    {
      "cell_type": "code",
      "source": [
        "combinaciones_numeros = list(itertools.permutations(numeros, 5))"
      ],
      "metadata": {
        "id": "isD3YkeNezVe"
      },
      "execution_count": null,
      "outputs": []
    },
    {
      "cell_type": "markdown",
      "source": [
        "Aquí se generan todas las permutaciones posibles de 5 números tomados de una lista de 9 números.\n",
        "\n",
        "En términos de notación factorial:\n",
        "𝑃\n",
        "(\n",
        "9\n",
        ",\n",
        "5\n",
        ")\n",
        "=\n",
        "9\n",
        "×\n",
        "8\n",
        "×\n",
        "7\n",
        "×\n",
        "6\n",
        "×\n",
        "5\n",
        "\n",
        "\n",
        "**-.Generación de Permutaciones de Operadores:**\n"
      ],
      "metadata": {
        "id": "wp-yS7rAe3Cg"
      }
    },
    {
      "cell_type": "code",
      "source": [
        "permutaciones_operadores = list(itertools.permutations(operadores, 4))"
      ],
      "metadata": {
        "id": "wRxW77g6f3Op"
      },
      "execution_count": null,
      "outputs": []
    },
    {
      "cell_type": "markdown",
      "source": [
        "Aquí se generan todas las permutaciones posibles de 4 operadores tomados de una lista de 4 operadores.\n",
        "El número de permutaciones es\n",
        "\n",
        "𝑃\n",
        "(\n",
        "4\n",
        ",\n",
        "4\n",
        ")\n",
        "=\n",
        "4\n",
        "!\n",
        "=\n",
        "24\n",
        "\n",
        "-3.Evaluación de Todas las Combinaciones:**"
      ],
      "metadata": {
        "id": "k5jTXy_kf7ZD"
      }
    },
    {
      "cell_type": "code",
      "source": [
        "for nums in combinaciones_numeros:\n",
        "    for ops in permutaciones_operadores:\n",
        "        expresion = f\"{nums[0]} {ops[0]} {nums[1]} {ops[1]} {nums[2]} {ops[2]} {nums[3]} {ops[3]} {nums[4]}\"\n",
        "        resultado = eval(expresion)\n",
        "        if resultado-int(resultado) == 0:\n",
        "            resultados.append((expresion, resultado))"
      ],
      "metadata": {
        "id": "-76c3odrgUG3"
      },
      "execution_count": null,
      "outputs": []
    },
    {
      "cell_type": "markdown",
      "source": [
        "Aquí se evalúan todas las combinaciones posibles de las permutaciones de números y operadores.\n",
        "El número total de evaluaciones es\n",
        "\n",
        "𝑃\n",
        "(\n",
        "9\n",
        ",\n",
        "5\n",
        ")\n",
        "×\n",
        "𝑃\n",
        "(\n",
        "4\n",
        ",\n",
        "4\n",
        ")\n",
        "\n",
        "Sustituyendo los valores calculados anteriormente:\n",
        "15120\n",
        "×\n",
        "24\n",
        "=\n",
        "362880\n",
        "\n",
        "**-Complejidad Total**\n",
        "\n",
        "La complejidad total del código es dominada por la evaluación de todas las combinaciones posibles. Así, la complejidad total es:\n",
        "\n",
        "O(P(9,5)×P(4,4))=O(15120×24)=O(362880)\n",
        "\n",
        "**-Conclusiones**\n",
        "\n",
        "Este análisis muestra que la complejidad del código es factorial, lo cual es muy ineficiente para grandes entradas. La combinación de permutaciones de números y operadores conduce a un número muy grande de evaluaciones, lo que explica la alta complejidad."
      ],
      "metadata": {
        "id": "VKltBIiFgZuz"
      }
    },
    {
      "cell_type": "markdown",
      "source": [
        "**Pregunta 10 - Diseña un algoritmo que mejore la complejidad del algortimo por fuerza bruta. Argumenta porque crees que mejora el algoritmo por fuerza bruta**"
      ],
      "metadata": {
        "id": "3dDa9B27iXIQ"
      }
    },
    {
      "cell_type": "markdown",
      "source": [
        "> **Respuesta: Para optimizar el código utilizando algoritmos genéticos, emplearemos la librería DEAP (Distributed Evolutionary Algorithms in Python), que proporciona herramientas para implementar algoritmos evolutivos. El objetivo será encontrar expresiones que cumplan con la restricción de tener resultados enteros.El código se ejecutará buscando expresiones que resulten en valores enteros. La mejor expresión encontrada se mostrará al final. Este enfoque es más eficiente que la búsqueda exhaustiva, ya que utiliza principios evolutivos para explorar el espacio de soluciones de manera más inteligente**\n",
        "\n",
        "\n"
      ],
      "metadata": {
        "id": "HYVj_Ifli_V3"
      }
    },
    {
      "cell_type": "code",
      "source": [
        "pip install deap"
      ],
      "metadata": {
        "colab": {
          "base_uri": "https://localhost:8080/"
        },
        "id": "UQw7DDJ1jmxs",
        "outputId": "7eb97619-b7b4-48a7-fbd2-d114fe84d7e4"
      },
      "execution_count": 3,
      "outputs": [
        {
          "output_type": "stream",
          "name": "stdout",
          "text": [
            "Collecting deap\n",
            "  Downloading deap-1.4.1-cp310-cp310-manylinux_2_5_x86_64.manylinux1_x86_64.manylinux_2_17_x86_64.manylinux2014_x86_64.whl (135 kB)\n",
            "\u001b[?25l     \u001b[90m━━━━━━━━━━━━━━━━━━━━━━━━━━━━━━━━━━━━━━━━\u001b[0m \u001b[32m0.0/135.4 kB\u001b[0m \u001b[31m?\u001b[0m eta \u001b[36m-:--:--\u001b[0m\r\u001b[2K     \u001b[91m━━━━━━━━━━━━━━━━━━━━━━━━━━━━━━━━━━━━━━━\u001b[0m\u001b[90m╺\u001b[0m \u001b[32m133.1/135.4 kB\u001b[0m \u001b[31m3.9 MB/s\u001b[0m eta \u001b[36m0:00:01\u001b[0m\r\u001b[2K     \u001b[90m━━━━━━━━━━━━━━━━━━━━━━━━━━━━━━━━━━━━━━━━\u001b[0m \u001b[32m135.4/135.4 kB\u001b[0m \u001b[31m3.1 MB/s\u001b[0m eta \u001b[36m0:00:00\u001b[0m\n",
            "\u001b[?25hRequirement already satisfied: numpy in /usr/local/lib/python3.10/dist-packages (from deap) (1.25.2)\n",
            "Installing collected packages: deap\n",
            "Successfully installed deap-1.4.1\n"
          ]
        }
      ]
    },
    {
      "cell_type": "code",
      "source": [
        "import random\n",
        "import operator\n",
        "import itertools\n",
        "from deap import base, creator, tools, algorithms\n",
        "import numpy as np\n",
        "\n",
        "# Definir los números del 1 al 9 y los operadores\n",
        "numeros = list(range(1, 10))\n",
        "operadores = ['+', '-', '*', '/']\n",
        "\n",
        "# Definir la expresión como una combinación de números y operadores\n",
        "def crear_expresion():\n",
        "    nums = random.sample(numeros, 5)\n",
        "    ops = random.sample(operadores, 4)\n",
        "    expresion = list(itertools.chain(*zip(nums, ops)))\n",
        "    expresion.append(nums[-1])\n",
        "    return expresion\n",
        "\n",
        "# Evaluar la expresión\n",
        "def evaluar_expresion(expresion):\n",
        "    expr_str = ''.join(map(str, expresion))\n",
        "    print(expr_str)\n",
        "    try:\n",
        "        resultado = eval(expr_str)\n",
        "        if resultado == int(resultado):\n",
        "            return abs(resultado),  # La coma es importante para devolver una tupla\n",
        "        else:\n",
        "            return float('inf'),  # Penalizar las expresiones que no resultan en un entero\n",
        "    except ZeroDivisionError:\n",
        "        return float('inf'),  # Penalizar las divisiones por cero\n",
        "\n",
        "# Crear el entorno evolutivo\n",
        "creator.create(\"FitnessMin\", base.Fitness, weights=(-1.0,))\n",
        "creator.create(\"Individual\", list, fitness=creator.FitnessMin)\n",
        "\n",
        "toolbox = base.Toolbox()\n",
        "toolbox.register(\"attr_expr\", crear_expresion)\n",
        "toolbox.register(\"individual\", tools.initIterate, creator.Individual, toolbox.attr_expr)\n",
        "toolbox.register(\"population\", tools.initRepeat, list, toolbox.individual)\n",
        "\n",
        "toolbox.register(\"evaluate\", evaluar_expresion)\n",
        "toolbox.register(\"mate\", tools.cxTwoPoint)\n",
        "toolbox.register(\"mutate\", tools.mutShuffleIndexes, indpb=0.2)\n",
        "toolbox.register(\"select\", tools.selTournament, tournsize=3)\n",
        "\n",
        "# Algoritmo Genético Principal\n",
        "def main():\n",
        "    random.seed(42)\n",
        "    pop = toolbox.population(n=300)\n",
        "    hof = tools.HallOfFame(1)\n",
        "\n",
        "    stats = tools.Statistics(lambda ind: ind.fitness.values)\n",
        "    stats.register(\"min\", np.min)\n",
        "    stats.register(\"avg\", np.mean)\n",
        "\n",
        "    pop, logbook = algorithms.eaSimple(pop, toolbox, cxpb=0.5, mutpb=0.2, ngen=40,stats=stats, halloffame=hof, verbose=True)\n",
        "\n",
        "    print(pop, logbook, hof[0])\n",
        "\n",
        "    return pop, logbook, hof\n",
        "\n",
        "if __name__ == \"__main__\":\n",
        "    pop, logbook, hof = main()\n",
        "    print(f\"Mejor expresión: {''.join(map(str, hof[0]))} = {eval(''.join(map(str, hof[0])))}\")\n"
      ],
      "metadata": {
        "id": "d3mlt4sDjt-g"
      },
      "execution_count": null,
      "outputs": []
    },
    {
      "cell_type": "markdown",
      "source": [
        "**Pregunta 11 - Calcula la complejidad del algoritmo**"
      ],
      "metadata": {
        "id": "VGVDoeCfapWQ"
      }
    },
    {
      "cell_type": "markdown",
      "source": [
        "**Respuesta:**\n",
        "\n",
        "- Generación de Expresiones: La generación de una expresión se realiza en tiempo constante, ya que selecciona aleatoriamente 5 números y 4 operadores y los combina.\n",
        "- Evaluación de Expresiones: La evaluación de una expresión es el componente más costoso en términos de tiempo. La complejidad depende de la longitud de la expresión y la operación eval puede ser costosa. En el peor de los casos, la evaluación toma tiempo constante,\n",
        "𝑂\n",
        "(\n",
        "1\n",
        ")\n",
        "O(1), pero en la práctica puede variar dependiendo de la complejidad de las expresiones.\n",
        "- Configuración del Entorno Evolutivo: La configuración del entorno evolutivo se hace en tiempo constante,\n",
        "𝑂\n",
        "(\n",
        "1\n",
        ")\n",
        "O(1).\n",
        "- Algoritmo Genético Principal:La complejidad total del algoritmo genético se puede aproximar como: O(n×g×t\n",
        "eval\n",
        "​\n",
        " ), en nuestro caso Tamaño de la población (n)=300, Número de generaciones (g)=40. Por lo tanto, la complejidad es aproximadamente\n",
        "𝑂\n",
        "(\n",
        "300\n",
        "×\n",
        "40\n",
        "×\n",
        "𝑡\n",
        "eval\n",
        ")\n",
        "O(300×40×t\n",
        "eval\n",
        "​\n",
        " ).\n",
        "- En conclusión, el código está diseñado para ser más eficiente que la búsqueda exhaustiva al utilizar un algoritmo genético, que explora el espacio de soluciones de manera más eficiente. La complejidad depende principalmente del tamaño de la población, el número de generaciones, y el tiempo de evaluación de las expresiones.\n"
      ],
      "metadata": {
        "id": "VspsVLXVbnrg"
      }
    },
    {
      "cell_type": "markdown",
      "source": [
        "**Pregunta 12 y 13 - Según el problema (y tenga sentido), diseña un juego de datos de entrada aleatorios / Aplica el algoritmo al juego de datos generado**"
      ],
      "metadata": {
        "id": "6T4ch2D-173-"
      }
    },
    {
      "cell_type": "markdown",
      "source": [
        "\n",
        "\n",
        "> **Respuesta: A continuación se generan un conjunto de datos aleatorios, recordar que en el algoritmo genético se generan de manera automática y se aplica el algoritmo al juego de datos generado**\n",
        "\n"
      ],
      "metadata": {
        "id": "eT4jTDw3fJ6F"
      }
    },
    {
      "cell_type": "code",
      "source": [
        "import random\n",
        "import operator\n",
        "import itertools\n",
        "from deap import base, creator, tools, algorithms\n",
        "import numpy as np\n",
        "\n",
        "# Definir los números del 1 al 9 y los operadores\n",
        "numeros = list(range(1, 10))\n",
        "operadores = ['+', '-', '*', '/']\n",
        "\n",
        "# Definir la expresión como una combinación de números y operadores\n",
        "def crear_expresion():\n",
        "    nums = random.sample(numeros, 5)\n",
        "    ops = random.sample(operadores, 4)\n",
        "    expresion = list(itertools.chain(*zip(nums, ops)))\n",
        "    expresion.append(nums[-1])\n",
        "    return expresion\n",
        "\n",
        "# Evaluar la expresión\n",
        "def evaluar_expresion(expresion):\n",
        "    expr_str = ''.join(map(str, expresion))\n",
        "    print(expr_str)\n",
        "    try:\n",
        "        resultado = eval(expr_str)\n",
        "        if resultado == int(resultado):\n",
        "            return abs(resultado),  # La coma es importante para devolver una tupla\n",
        "        else:\n",
        "            return float('inf'),  # Penalizar las expresiones que no resultan en un entero\n",
        "    except ZeroDivisionError:\n",
        "        return float('inf'),  # Penalizar las divisiones por cero\n",
        "\n",
        "for i in range(5):\n",
        "    expresion = crear_expresion()\n",
        "    resultado = evaluar_expresion(expresion)\n",
        "    print(resultado)"
      ],
      "metadata": {
        "colab": {
          "base_uri": "https://localhost:8080/"
        },
        "id": "Al9IMt3Zdezn",
        "outputId": "5fa4f64d-3260-453a-fb9a-d73c51d34f92"
      },
      "execution_count": 8,
      "outputs": [
        {
          "output_type": "stream",
          "name": "stdout",
          "text": [
            "8*9/4+1-6\n",
            "(13.0,)\n",
            "5*1+3-2/6\n",
            "(inf,)\n",
            "2-1/4*3+9\n",
            "(inf,)\n",
            "4/5*7+3-1\n",
            "(inf,)\n",
            "6+8*2-4/5\n",
            "(inf,)\n"
          ]
        }
      ]
    },
    {
      "cell_type": "markdown",
      "metadata": {
        "id": "eTFWUJQrtGcv"
      },
      "source": [
        "**Pregunta 14 - Enumera las referencias que has utilizado(si ha sido necesario) para llevar a cabo el trabajo**\n",
        "\n"
      ]
    },
    {
      "cell_type": "markdown",
      "source": [
        "- Itertools es un módulo en Python que proporciona un conjunto de herramientas para trabajar con iteradores. Fue diseñado para ofrecer eficiencias y utilidades que permiten la creación y manipulación de iteradores de manera fácil y eficiente. Este módulo contiene varias funciones que se pueden agrupar en combinaciones, permutaciones, productos cartesianos entre otros.\n",
        "- DEAP (Distributed Evolutionary Algorithms in Python) es una biblioteca de Python diseñada para facilitar la creación de algoritmos evolutivos, como algoritmos genéticos, estrategias evolutivas y programación genética. Es flexible y permite a los usuarios definir sus propias estructuras de datos y operaciones evolutivas de manera sencilla y eficiente.\n",
        "\n"
      ],
      "metadata": {
        "id": "B-yDH6s0gK_5"
      }
    },
    {
      "cell_type": "markdown",
      "metadata": {
        "id": "YKQ_mRBttWsP"
      },
      "source": [
        "**Pregunta 15 - Describe brevemente las lineas de como crees que es posible avanzar en el estudio del problema. Ten en cuenta incluso posibles variaciones del problema y/o variaciones al alza del tamaño**"
      ]
    },
    {
      "cell_type": "markdown",
      "metadata": {
        "id": "kAkDPUyRtYyH"
      },
      "source": [
        "- En conclusión el problema se soluciona de manera más eficiente utilizando algoritmos genéticos, ya que el código está diseñado para ser más eficiente que la búsqueda exhaustiva y explora el espacio de soluciones de manera más eficiente. La complejidad depende principalmente del tamaño de la población, el número de generaciones, y el tiempo de evaluación de las expresiones.El código se ejecutará buscando expresiones que resulten en valores enteros. La mejor expresión encontrada se mostrará al final. Este enfoque es más eficiente que la búsqueda exhaustiva, ya que utiliza principios evolutivos para explorar el espacio de soluciones de manera más inteligente.\n",
        "- Asimismo, no es recomendabke utilizar la \"fuerza bruta\" para un número grande de evaluaciones ya que la complejidad del código es factorial, lo cual es muy ineficiente para grandes entradas. La combinación de permutaciones de números y operadores conduce a un número muy grande de evaluaciones, lo que explica la alta complejidad."
      ]
    }
  ]
}