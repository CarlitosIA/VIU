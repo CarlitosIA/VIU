{
  "cells": [
    {
      "cell_type": "markdown",
      "metadata": {
        "id": "kQn6fbhgtH9I"
      },
      "source": [
        "# Algoritmos de optimización - Reto 1\n",
        "\n",
        "Nombre: Carlos Cesar Meza Montalvo\n",
        "\n",
        "URL : https://github.com/CarlitosIA/VIU/blob/main/Algoritmos_Reto1.ipynb"
      ]
    },
    {
      "cell_type": "markdown",
      "metadata": {
        "id": "_t62Ge7ZuKnC"
      },
      "source": [
        "\n",
        "Resuelve el problema de las [Torres de Hanoi](https://es.wikipedia.org/wiki/Torres_de_Han%C3%B3i) para un número arbitrario de fichas utilizando la técnica de divide y vencerás."
      ]
    },
    {
      "cell_type": "code",
      "execution_count": 25,
      "metadata": {
        "colab": {
          "base_uri": "https://localhost:8080/"
        },
        "id": "i32G0CUQvauE",
        "outputId": "1b2a6215-18a9-4f00-d4b2-032857e69156"
      },
      "outputs": [
        {
          "output_type": "stream",
          "name": "stdout",
          "text": [
            "Ingresar el número de discos: 3\n",
            "Mover el disco 1 de A a C\n",
            "Mover el disco 2 de A a B\n",
            "Mover el disco 1 de C a B\n",
            "Mover el disco 3 de A a C\n",
            "Mover el disco 1 de B a A\n",
            "Mover el disco 2 de B a C\n",
            "Mover el disco 1 de A a C\n"
          ]
        }
      ],
      "source": [
        "def torres_hanoi(n, origen, destino, auxiliar):\n",
        "\n",
        "    #Caso de disco 1 donde el movimiento es directamente a la torre final\n",
        "    if n == 1:\n",
        "        print(f\"Mover el disco 1 de {origen} a {destino}\")\n",
        "        return\n",
        "    # Aplicar divide y venceras, en n-1 fichas que se tomen para la ejecución\n",
        "    torres_hanoi(n - 1, origen, auxiliar, destino)\n",
        "    print(f\"Mover el disco {n} de {origen} a {destino}\")\n",
        "    torres_hanoi(n - 1, auxiliar, destino, origen)\n",
        "\n",
        "\n",
        "#Solicitar el ingreso del número de discos\n",
        "numero_de_discos = int(input(\"Ingresar el número de discos: \"))\n",
        "\n",
        "torres_hanoi(numero_de_discos, 'A', 'C', 'B')\n"
      ]
    },
    {
      "cell_type": "markdown",
      "metadata": {
        "id": "-da7Y_TRnlwk"
      },
      "source": [
        "## Sucesión de Fibonacci\n",
        "\n",
        "Cálcula el n-ésimo término de la [Sucesión de Fibonacci](https://es.wikipedia.org/wiki/Sucesi%C3%B3n_de_Fibonacci) mediante un algoritmo recursivo y otro iterativo. Representa gráficamente cómo crece el tiempo de cómputo en función del número de términos para ambos algoritmos."
      ]
    },
    {
      "cell_type": "markdown",
      "metadata": {
        "id": "A8zG0SmKnlwl"
      },
      "source": [
        "#### Fibonacci recursivo"
      ]
    },
    {
      "cell_type": "code",
      "execution_count": 9,
      "metadata": {
        "colab": {
          "base_uri": "https://localhost:8080/"
        },
        "id": "74qZZAekiNYR",
        "outputId": "f1a6fccc-ff34-4c38-d532-b1e757a0ad00"
      },
      "outputs": [
        {
          "output_type": "stream",
          "name": "stdout",
          "text": [
            "Ingresar número entero positivo:25\n",
            "[0, 1, 1, 2, 3, 5, 8, 13, 21, 34, 55, 89, 144, 233, 377, 610, 987, 1597, 2584, 4181, 6765, 10946, 17711, 28657, 46368]\n"
          ]
        }
      ],
      "source": [
        "from functools import reduce\n",
        "fibonacci_lambda = lambda n: reduce(lambda x,y: x + [x[-1] + x[-2]], range(n-2), [0,1])\n",
        "\n",
        "n = int(input(\"Ingresar número entero positivo:\"))\n",
        "fibo_serie = fibonacci_lambda(n)\n",
        "print(fibo_serie)\n"
      ]
    },
    {
      "cell_type": "markdown",
      "metadata": {
        "id": "cYceGSZhnlwl"
      },
      "source": [
        "#### Fibonacci iterativo"
      ]
    },
    {
      "cell_type": "code",
      "execution_count": 11,
      "metadata": {
        "colab": {
          "base_uri": "https://localhost:8080/"
        },
        "id": "Bag2ruF-nlwl",
        "outputId": "c85f227d-7e8a-4b3c-aa67-31eeb2919ac4"
      },
      "outputs": [
        {
          "output_type": "stream",
          "name": "stdout",
          "text": [
            "Ingresar número entero positivo:25\n",
            "El término 25 en la Fibonacci es 46368\n"
          ]
        }
      ],
      "source": [
        "def fibonacci(n):\n",
        "    if n <= 0:\n",
        "        return\n",
        "    elif n == 1:\n",
        "        return 0\n",
        "    elif n == 2:\n",
        "        return 1\n",
        "\n",
        "    a, b = 0, 1\n",
        "    for i in range(2, n):\n",
        "        a, b = b, a + b\n",
        "    return b\n",
        "\n",
        "n=int(input(\"Ingresar número entero positivo:\"))\n",
        "print(f\"El término {n} en la Fibonacci es {fibonacci(n)}\")"
      ]
    },
    {
      "cell_type": "markdown",
      "metadata": {
        "id": "RgT5XJsZ429L"
      },
      "source": [
        "## Devolución de cambio por técnica voraz\n",
        "\n",
        "Resuelve el [Problema del Cambio de Moneda](https://es.wikipedia.org/wiki/Problema_de_cambio_de_monedas) utilizando una técnica voraz."
      ]
    },
    {
      "cell_type": "code",
      "execution_count": 20,
      "metadata": {
        "colab": {
          "base_uri": "https://localhost:8080/"
        },
        "id": "uJtftBLU4-ap",
        "outputId": "288e09c9-1948-47e4-858e-cdad7d797230"
      },
      "outputs": [
        {
          "output_type": "stream",
          "name": "stdout",
          "text": [
            "Ingrese el valor a entregarse como cambio:29\n",
            "El mínimo de monedas para cambiar 29 es 7: [5, 5, 5, 5, 5, 2, 2]\n"
          ]
        }
      ],
      "source": [
        "def cambio_de_monedas(monedas,cambio):\n",
        "    # Ordenar monedas en orden descendente\n",
        "    monedas.sort(reverse=True)\n",
        "    result = []\n",
        "    for coin in monedas:\n",
        "        while cambio >= coin:\n",
        "            cambio -= coin\n",
        "            result.append(coin)\n",
        "\n",
        "    # Si no se puede dar cambio, devolver -1\n",
        "    if cambio != 0:\n",
        "        return -1, []\n",
        "    return len(result), result\n",
        "\n",
        "# Monedas para Perú son de 1, 2 y 5 soles\n",
        "monedas = [1, 2, 5]\n",
        "\n",
        "cambio = int(input(\"Ingrese el valor a entregarse como cambio:\"))\n",
        "\n",
        "count, result = cambio_de_monedas(monedas, cambio)\n",
        "if count != -1:\n",
        "    print(f\"El mínimo de monedas para cambiar {cambio} es {count}: {result}\")\n",
        "else:\n",
        "    print(f\"No se puede dar cambio de {cambio} con las monedas disponibles.\")\n",
        "\n",
        "\n",
        "\n"
      ]
    },
    {
      "cell_type": "markdown",
      "metadata": {
        "id": "g8M9GTvy_Fa3"
      },
      "source": [
        "## N-Reinas por técnica de vuelta atrás\n",
        "Resuelve el [Problema de las N-Reinas](https://es.wikipedia.org/wiki/Problema_de_las_ocho_reinas) en un tablero de dimensión N mediante la técnica de la vuelta atrás (backtraking)."
      ]
    },
    {
      "cell_type": "code",
      "execution_count": 24,
      "metadata": {
        "id": "FqOPyCmv_K65",
        "colab": {
          "base_uri": "https://localhost:8080/"
        },
        "outputId": "6e064411-a3c5-4457-c247-b7a15461e278"
      },
      "outputs": [
        {
          "output_type": "stream",
          "name": "stdout",
          "text": [
            "Ingresar número de reinas:5\n",
            "Existen 10 soluciones para 5 reinas.\n",
            "[0, 2, 4, 1, 3]\n",
            "[0, 3, 1, 4, 2]\n",
            "[1, 3, 0, 2, 4]\n",
            "[1, 4, 2, 0, 3]\n",
            "[2, 0, 3, 1, 4]\n",
            "[2, 4, 1, 3, 0]\n",
            "[3, 0, 2, 4, 1]\n",
            "[3, 1, 4, 2, 0]\n",
            "[4, 1, 3, 0, 2]\n",
            "[4, 2, 0, 3, 1]\n"
          ]
        }
      ],
      "source": [
        "def movimiento(tablero, fila, columna):\n",
        "\n",
        "    # Validar si hay otra reina en la misma columna\n",
        "    for i in range(fila):\n",
        "        if tablero[i] == columna:\n",
        "            return False\n",
        "\n",
        "    # Validar la diagonal superior izquierda\n",
        "    for i, j in zip(range(fila, -1, -1), range(columna, -1, -1)):\n",
        "        if tablero[i] == j:\n",
        "            return False\n",
        "\n",
        "    # Validar la diagonal superior derecha\n",
        "    for i, j in zip(range(fila, -1, -1), range(columna, len(tablero), 1)):\n",
        "        if tablero[i] == j:\n",
        "            return False\n",
        "\n",
        "    return True\n",
        "\n",
        "# Las reinas han sido colocadas correctamente\n",
        "def busca_posicion(tablero, fila, soluciones):\n",
        "    if fila == len(tablero):\n",
        "        soluciones.append(tablero[:])\n",
        "        return\n",
        "\n",
        "    for columna in range(len(tablero)):\n",
        "        if movimiento(tablero, fila, columna):\n",
        "            tablero[fila] = columna\n",
        "            busca_posicion(tablero, fila + 1, soluciones)\n",
        "            # Deshacer el movimiento\n",
        "            tablero[fila] = -1\n",
        "\n",
        "def inicializar_juego(n):\n",
        "    tablero = [-1] * n\n",
        "    soluciones = []\n",
        "    busca_posicion(tablero, 0, soluciones)\n",
        "    return soluciones\n",
        "\n",
        "# Aplicación\n",
        "\n",
        "n = int(input(\"Ingresar número de reinas:\"))\n",
        "\n",
        "soluciones = inicializar_juego(n)\n",
        "\n",
        "print(f\"Existen {len(soluciones)} soluciones para {n} reinas.\")\n",
        "\n",
        "for solucion in soluciones:\n",
        "    print(solucion)\n",
        "\n",
        "\n"
      ]
    }
  ],
  "metadata": {
    "colab": {
      "provenance": [],
      "toc_visible": true
    },
    "kernelspec": {
      "display_name": "Python 3 (ipykernel)",
      "language": "python",
      "name": "python3"
    },
    "language_info": {
      "codemirror_mode": {
        "name": "ipython",
        "version": 3
      },
      "file_extension": ".py",
      "mimetype": "text/x-python",
      "name": "python",
      "nbconvert_exporter": "python",
      "pygments_lexer": "ipython3",
      "version": "3.12.3"
    }
  },
  "nbformat": 4,
  "nbformat_minor": 0
}